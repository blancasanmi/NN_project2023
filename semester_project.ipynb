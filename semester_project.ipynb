{
 "cells": [
  {
   "cell_type": "code",
   "execution_count": 3,
   "id": "e4962dde",
   "metadata": {},
   "outputs": [],
   "source": [
    "from tensorflow import keras\n",
    "from tensorflow.keras.optimizers import Adam\n",
    "from keras import layers\n",
    "import matplotlib.pyplot as plt\n",
    "import numpy as np\n",
    "import keras_tuner as kt"
   ]
  },
  {
   "cell_type": "code",
   "execution_count": 4,
   "id": "8009dbd1",
   "metadata": {},
   "outputs": [],
   "source": [
    "# (some of the) hyperparameters\n",
    "BATCH_SIZE = 128 # unsure, trade off between performance and efficiency\n",
    "KERNEL_SIZE = 3 # 3x3 kernel for convolution\n",
    "EPOCHS = 25\n",
    "LEARNING_RATE = 10**-3"
   ]
  },
  {
   "cell_type": "code",
   "execution_count": 3,
   "id": "b99f1a66",
   "metadata": {
    "scrolled": true
   },
   "outputs": [
    {
     "name": "stdout",
     "output_type": "stream",
     "text": [
      "Found 2412 files belonging to 2 classes.\n",
      "Found 402 files belonging to 2 classes.\n"
     ]
    }
   ],
   "source": [
    "## preparing the data ##\n",
    "# documentation: www.tensorflow.org/api_docs/python/tf/keras/utils/image_dataset_from_directory\n",
    "train_ds= keras.utils.image_dataset_from_directory(\n",
    "    directory='augmented_data/training_data/',\n",
    "    labels='inferred', # generate labels from directory structure\n",
    "    seed=42, # reproducible shuffling\n",
    "    label_mode='binary', # we do binary classification\n",
    "    color_mode='rgb', # default: RGB\n",
    "    batch_size=BATCH_SIZE,\n",
    "    image_size=(256,256), # all images must have the same size\n",
    "    shuffle=True # enabled by default, facilitates a shuffled training set\n",
    ")\n",
    "\n",
    "valid_ds= keras.utils.image_dataset_from_directory(\n",
    "    directory='augmented_data/validation_data/',\n",
    "    labels='inferred', # generate labels from directory structure\n",
    "    label_mode='binary', # we do binary classification\n",
    "    color_mode='rgb', # default: RGB\n",
    "    batch_size=BATCH_SIZE,\n",
    "    image_size=(256,256), # all images must have the same size\n",
    "    shuffle=False # no need to shuffle the validation set\n",
    ")"
   ]
  },
  {
   "cell_type": "code",
   "execution_count": 45,
   "id": "1eaa90c7",
   "metadata": {},
   "outputs": [
    {
     "name": "stdout",
     "output_type": "stream",
     "text": [
      "Found 2014 files belonging to 2 classes.\n",
      "Using 1612 files for training.\n",
      "Using 402 files for validation.\n"
     ]
    }
   ],
   "source": [
    "# documentation: www.tensorflow.org/api_docs/python/tf/keras/utils/image_dataset_from_directory\n",
    "train_ds, valid_ds = keras.utils.image_dataset_from_directory(\n",
    "    directory='training_data/',\n",
    "    validation_split=0.2, # we want an 80:20 split for our CV\n",
    "    labels='inferred', # generate labels from directory structure\n",
    "    subset='both', # return tuple of reduced training set and validation set\n",
    "    seed=42, # reproducible shuffling\n",
    "    label_mode='binary', # we do binary classification\n",
    "    color_mode='rgb', # default: RGB\n",
    "    batch_size=BATCH_SIZE,\n",
    "    image_size=(256,256), # all images must have the same size\n",
    "    shuffle=True # enabled by default, facilitates a random split\n",
    ")"
   ]
  },
  {
   "cell_type": "code",
   "execution_count": 5,
   "id": "afb314bc",
   "metadata": {},
   "outputs": [
    {
     "name": "stdout",
     "output_type": "stream",
     "text": [
      "Found 514 files belonging to 2 classes.\n"
     ]
    }
   ],
   "source": [
    "test_ds = keras.utils.image_dataset_from_directory(\n",
    "    directory='test_data (do not open!!!1!!!)/',\n",
    "    labels='inferred', # generate labels from directory structure\n",
    "    label_mode='binary', # we do binary classification\n",
    "    image_size=(256,256), # all images must have the same size\n",
    "    shuffle=False\n",
    ")"
   ]
  },
  {
   "cell_type": "code",
   "execution_count": 5,
   "id": "8e975b88",
   "metadata": {},
   "outputs": [
    {
     "name": "stdout",
     "output_type": "stream",
     "text": [
      "Trial 40 Complete [00h 03m 09s]\n",
      "val_loss: 0.2773396670818329\n",
      "\n",
      "Best val_loss So Far: 0.1634119153022766\n",
      "Total elapsed time: 01h 26m 24s\n",
      "INFO:tensorflow:Oracle triggered exit\n",
      "Results summary\n",
      "Results in grid_search\\random\n",
      "Showing 10 best trials\n",
      "Objective(name=\"val_loss\", direction=\"min\")\n",
      "\n",
      "Trial 09 summary\n",
      "Hyperparameters:\n",
      "dense_neurons: 16\n",
      "dropout_rate: 0.4\n",
      "learning_rate: 0.0005\n",
      "Score: 0.1634119153022766\n",
      "\n",
      "Trial 16 summary\n",
      "Hyperparameters:\n",
      "dense_neurons: 64\n",
      "dropout_rate: 0.2\n",
      "learning_rate: 0.0005\n",
      "Score: 0.19710548222064972\n",
      "\n",
      "Trial 08 summary\n",
      "Hyperparameters:\n",
      "dense_neurons: 16\n",
      "dropout_rate: 0.5\n",
      "learning_rate: 0.001\n",
      "Score: 0.20185858011245728\n",
      "\n",
      "Trial 05 summary\n",
      "Hyperparameters:\n",
      "dense_neurons: 16\n",
      "dropout_rate: 0.4\n",
      "learning_rate: 0.0001\n",
      "Score: 0.21027685701847076\n",
      "\n",
      "Trial 24 summary\n",
      "Hyperparameters:\n",
      "dense_neurons: 32\n",
      "dropout_rate: 0.1\n",
      "learning_rate: 0.0005\n",
      "Score: 0.2122764140367508\n",
      "\n",
      "Trial 28 summary\n",
      "Hyperparameters:\n",
      "dense_neurons: 32\n",
      "dropout_rate: 0.3\n",
      "learning_rate: 0.001\n",
      "Score: 0.22344554960727692\n",
      "\n",
      "Trial 32 summary\n",
      "Hyperparameters:\n",
      "dense_neurons: 16\n",
      "dropout_rate: 0.2\n",
      "learning_rate: 0.001\n",
      "Score: 0.2301655411720276\n",
      "\n",
      "Trial 14 summary\n",
      "Hyperparameters:\n",
      "dense_neurons: 64\n",
      "dropout_rate: 0.2\n",
      "learning_rate: 0.001\n",
      "Score: 0.23409423232078552\n",
      "\n",
      "Trial 07 summary\n",
      "Hyperparameters:\n",
      "dense_neurons: 64\n",
      "dropout_rate: 0.1\n",
      "learning_rate: 0.0005\n",
      "Score: 0.24155792593955994\n",
      "\n",
      "Trial 18 summary\n",
      "Hyperparameters:\n",
      "dense_neurons: 16\n",
      "dropout_rate: 0.1\n",
      "learning_rate: 0.0001\n",
      "Score: 0.24275805056095123\n"
     ]
    }
   ],
   "source": [
    "# documentation keras.io/api/keras_tuner/tuners/grid/\n",
    "# define hyperparameters\n",
    "hp = kt.HyperParameters()\n",
    "hp.Choice(name='dense_neurons', values=[2**4, 2**5, 2**6])\n",
    "hp.Choice(name='dropout_rate', values = [0.1,0.2,0.3,0.4,0.5,0.6,0.7])\n",
    "hp.Choice(name='learning_rate', values=[0.001, 0.0001, 0.0005])\n",
    "\n",
    "def build_model(hp):\n",
    "    model = keras.Sequential([\n",
    "        keras.layers.experimental.preprocessing.Rescaling(1/255),\n",
    "        # Hidden layers\n",
    "        layers.Conv2D(8, KERNEL_SIZE, activation='relu'),\n",
    "        layers.MaxPooling2D(),\n",
    "        layers.Flatten(),\n",
    "        layers.Dense(hp.get('dense_neurons'), activation='relu'),\n",
    "        layers.Dropout(hp.get('dropout_rate')),\n",
    "        # Output layer, single neuron\n",
    "        layers.Dense(1, activation='sigmoid')\n",
    "    ])\n",
    "    model.compile(loss='binary_crossentropy', optimizer=Adam(hp.get('learning_rate')), metrics=['accuracy'])\n",
    "    return model\n",
    "\n",
    "# Define the Keras Tuner search space\n",
    "tuner = kt.RandomSearch(\n",
    "    build_model,\n",
    "    objective='val_loss',\n",
    "    max_trials=40,\n",
    "    seed=24,\n",
    "    hyperparameters=hp,\n",
    "    directory='grid_search',\n",
    "    project_name='random'\n",
    ")\n",
    "\n",
    "callback = keras.callbacks.EarlyStopping(monitor='val_loss', patience=5, baseline = 0.693)\n",
    "\n",
    "# Perform the hyperparameter search\n",
    "tuner.search(train_ds, epochs=EPOCHS, validation_data=valid_ds, callbacks=[callback])\n",
    "\n",
    "# Get the best hyperparameters\n",
    "tuner.results_summary()"
   ]
  },
  {
   "cell_type": "code",
   "execution_count": 7,
   "id": "224cdce6",
   "metadata": {},
   "outputs": [
    {
     "name": "stdout",
     "output_type": "stream",
     "text": [
      "INFO:tensorflow:Reloading Tuner from grid_search\\kernelaaaaa\\tuner0.json\n",
      "INFO:tensorflow:Oracle triggered exit\n"
     ]
    }
   ],
   "source": [
    "# documentation keras.io/api/keras_tuner/tuners/grid/\n",
    "# define hyperparameters\n",
    "hp = kt.HyperParameters()\n",
    "hp.Choice(name=\"kernel\", values=[3,5,7])\n",
    "\n",
    "def build_model(hp):\n",
    "    model = keras.Sequential([\n",
    "        keras.layers.experimental.preprocessing.Rescaling(1/255),\n",
    "        # Hidden layers\n",
    "        layers.Conv2D(16, hp.get('kernel'), activation='relu'),\n",
    "        layers.MaxPooling2D(),\n",
    "        layers.Flatten(),\n",
    "        layers.Dense(32, activation='relu'),\n",
    "        #layers.Dropout(0.3),\n",
    "        # Output layer, single neuron\n",
    "        layers.Dense(1, activation='sigmoid')\n",
    "    ])\n",
    "    model.compile(loss='binary_crossentropy', optimizer=Adam(LEARNING_RATE), metrics=['accuracy'])\n",
    "    return model\n",
    "\n",
    "# Define the Keras Tuner search space\n",
    "tuner = kt.GridSearch(\n",
    "    build_model,\n",
    "    objective='val_loss',\n",
    "    hyperparameters=hp,\n",
    "    directory='grid_search',\n",
    "    project_name='kernelaaaaa',\n",
    "    executions_per_trial=3\n",
    ")\n",
    "\n",
    "# Perform the hyperparameter search\n",
    "tuner.search(train_ds, epochs=10, validation_data=valid_ds)\n",
    "\n",
    "# Get the best hyperparameters\n",
    "best_hyperparameters = tuner.get_best_hyperparameters(num_trials=1)[0]"
   ]
  },
  {
   "cell_type": "code",
   "execution_count": 10,
   "id": "04d9ff1f",
   "metadata": {},
   "outputs": [
    {
     "name": "stdout",
     "output_type": "stream",
     "text": [
      "Results summary\n",
      "Results in grid_search\\param_resultss\n",
      "Showing 10 best trials\n",
      "Objective(name=\"val_loss\", direction=\"min\")\n",
      "\n",
      "Trial 0010 summary\n",
      "Hyperparameters:\n",
      "neurons: 64\n",
      "dropout_rate: 0.6\n",
      "Score: 0.18668238818645477\n",
      "\n",
      "Trial 0006 summary\n",
      "Hyperparameters:\n",
      "neurons: 64\n",
      "dropout_rate: 0.2\n",
      "Score: 0.2115299105644226\n",
      "\n",
      "Trial 0000 summary\n",
      "Hyperparameters:\n",
      "neurons: 32\n",
      "dropout_rate: 0.2\n",
      "Score: 0.22916150093078613\n",
      "\n",
      "Trial 0007 summary\n",
      "Hyperparameters:\n",
      "neurons: 64\n",
      "dropout_rate: 0.3\n",
      "Score: 0.2340570092201233\n",
      "\n",
      "Trial 0001 summary\n",
      "Hyperparameters:\n",
      "neurons: 32\n",
      "dropout_rate: 0.3\n",
      "Score: 0.2601962983608246\n",
      "\n",
      "Trial 0009 summary\n",
      "Hyperparameters:\n",
      "neurons: 64\n",
      "dropout_rate: 0.5\n",
      "Score: 0.28072667121887207\n",
      "\n",
      "Trial 0002 summary\n",
      "Hyperparameters:\n",
      "neurons: 32\n",
      "dropout_rate: 0.4\n",
      "Score: 0.39422333240509033\n",
      "\n",
      "Trial 0011 summary\n",
      "Hyperparameters:\n",
      "neurons: 64\n",
      "dropout_rate: 0.7\n",
      "Score: 0.4122737646102905\n",
      "\n",
      "Trial 0004 summary\n",
      "Hyperparameters:\n",
      "neurons: 32\n",
      "dropout_rate: 0.6\n",
      "Score: 0.4436405599117279\n",
      "\n",
      "Trial 0005 summary\n",
      "Hyperparameters:\n",
      "neurons: 32\n",
      "dropout_rate: 0.7\n",
      "Score: 0.5940787196159363\n"
     ]
    }
   ],
   "source": [
    "tuner.results_summary()"
   ]
  },
  {
   "cell_type": "code",
   "execution_count": 56,
   "id": "ac3fc757",
   "metadata": {},
   "outputs": [
    {
     "name": "stdout",
     "output_type": "stream",
     "text": [
      "Epoch 1/25\n",
      "19/19 [==============================] - 9s 409ms/step - loss: 2.3888 - accuracy: 0.5216 - val_loss: 0.6772 - val_accuracy: 0.5100\n",
      "Epoch 2/25\n",
      "19/19 [==============================] - 8s 413ms/step - loss: 0.6701 - accuracy: 0.5763 - val_loss: 0.6510 - val_accuracy: 0.6567\n",
      "Epoch 3/25\n",
      "19/19 [==============================] - 8s 381ms/step - loss: 0.6465 - accuracy: 0.6414 - val_loss: 0.6245 - val_accuracy: 0.7065\n",
      "Epoch 4/25\n",
      "19/19 [==============================] - 8s 418ms/step - loss: 0.5876 - accuracy: 0.6857 - val_loss: 0.5342 - val_accuracy: 0.8134\n",
      "Epoch 5/25\n",
      "19/19 [==============================] - 8s 405ms/step - loss: 0.4790 - accuracy: 0.7786 - val_loss: 0.3998 - val_accuracy: 0.8706\n",
      "Epoch 6/25\n",
      "19/19 [==============================] - 8s 411ms/step - loss: 0.4371 - accuracy: 0.8076 - val_loss: 0.3979 - val_accuracy: 0.8433\n",
      "Epoch 7/25\n",
      "19/19 [==============================] - 8s 377ms/step - loss: 0.4060 - accuracy: 0.8259 - val_loss: 0.3630 - val_accuracy: 0.8706\n",
      "Epoch 8/25\n",
      "19/19 [==============================] - 8s 393ms/step - loss: 0.3836 - accuracy: 0.8474 - val_loss: 0.3103 - val_accuracy: 0.8881\n",
      "Epoch 9/25\n",
      "19/19 [==============================] - 8s 378ms/step - loss: 0.3684 - accuracy: 0.8454 - val_loss: 0.3205 - val_accuracy: 0.8831\n",
      "Epoch 10/25\n",
      "19/19 [==============================] - 8s 407ms/step - loss: 0.3606 - accuracy: 0.8570 - val_loss: 0.2991 - val_accuracy: 0.8930\n",
      "Epoch 11/25\n",
      "19/19 [==============================] - 8s 407ms/step - loss: 0.3373 - accuracy: 0.8624 - val_loss: 0.3237 - val_accuracy: 0.8831\n",
      "Epoch 12/25\n",
      "19/19 [==============================] - 8s 402ms/step - loss: 0.3192 - accuracy: 0.8781 - val_loss: 0.3104 - val_accuracy: 0.8930\n",
      "Epoch 13/25\n",
      "19/19 [==============================] - 8s 416ms/step - loss: 0.2981 - accuracy: 0.8835 - val_loss: 0.2785 - val_accuracy: 0.9080\n",
      "Epoch 14/25\n",
      "19/19 [==============================] - 8s 377ms/step - loss: 0.2925 - accuracy: 0.8872 - val_loss: 0.2877 - val_accuracy: 0.9005\n",
      "Epoch 15/25\n",
      "19/19 [==============================] - 8s 384ms/step - loss: 0.2846 - accuracy: 0.9001 - val_loss: 0.3023 - val_accuracy: 0.8856\n",
      "Epoch 16/25\n",
      "19/19 [==============================] - 8s 380ms/step - loss: 0.2731 - accuracy: 0.8988 - val_loss: 0.2560 - val_accuracy: 0.9154\n",
      "Epoch 17/25\n",
      "19/19 [==============================] - 7s 373ms/step - loss: 0.2458 - accuracy: 0.9005 - val_loss: 0.3055 - val_accuracy: 0.9005\n",
      "Epoch 18/25\n",
      "19/19 [==============================] - 8s 379ms/step - loss: 0.2455 - accuracy: 0.9026 - val_loss: 0.2869 - val_accuracy: 0.9055\n",
      "Epoch 19/25\n",
      "19/19 [==============================] - 7s 373ms/step - loss: 0.2393 - accuracy: 0.9038 - val_loss: 0.2424 - val_accuracy: 0.9179\n",
      "Epoch 20/25\n",
      "19/19 [==============================] - 7s 370ms/step - loss: 0.2058 - accuracy: 0.9163 - val_loss: 0.2040 - val_accuracy: 0.9229\n",
      "Epoch 21/25\n",
      "19/19 [==============================] - 7s 368ms/step - loss: 0.1945 - accuracy: 0.9283 - val_loss: 0.2439 - val_accuracy: 0.9104\n",
      "Epoch 22/25\n",
      "19/19 [==============================] - 8s 391ms/step - loss: 0.1838 - accuracy: 0.9337 - val_loss: 0.2589 - val_accuracy: 0.9104\n",
      "Epoch 23/25\n",
      "19/19 [==============================] - 8s 377ms/step - loss: 0.1694 - accuracy: 0.9362 - val_loss: 0.2276 - val_accuracy: 0.9129\n",
      "Epoch 24/25\n",
      "19/19 [==============================] - 8s 387ms/step - loss: 0.1602 - accuracy: 0.9320 - val_loss: 0.2162 - val_accuracy: 0.9303\n",
      "Epoch 25/25\n",
      "19/19 [==============================] - 8s 378ms/step - loss: 0.1603 - accuracy: 0.9303 - val_loss: 0.2440 - val_accuracy: 0.9080\n",
      "Model: \"sequential_39\"\n",
      "_________________________________________________________________\n",
      " Layer (type)                Output Shape              Param #   \n",
      "=================================================================\n",
      " rescaling_39 (Rescaling)    (None, 256, 256, 3)       0         \n",
      "                                                                 \n",
      " conv2d_39 (Conv2D)          (None, 254, 254, 8)       224       \n",
      "                                                                 \n",
      " max_pooling2d_39 (MaxPoolin  (None, 127, 127, 8)      0         \n",
      " g2D)                                                            \n",
      "                                                                 \n",
      " flatten_39 (Flatten)        (None, 129032)            0         \n",
      "                                                                 \n",
      " dense_78 (Dense)            (None, 64)                8258112   \n",
      "                                                                 \n",
      " dropout_35 (Dropout)        (None, 64)                0         \n",
      "                                                                 \n",
      " dense_79 (Dense)            (None, 1)                 65        \n",
      "                                                                 \n",
      "=================================================================\n",
      "Total params: 8,258,401\n",
      "Trainable params: 8,258,401\n",
      "Non-trainable params: 0\n",
      "_________________________________________________________________\n",
      "None\n"
     ]
    },
    {
     "data": {
      "image/png": "[encoded data removed]",
      "text/plain": [
       "<Figure size 640x480 with 1 Axes>"
      ]
     },
     "metadata": {},
     "output_type": "display_data"
    }
   ],
   "source": [
    "# Setting up the neural network architecture\n",
    "model = keras.Sequential([\n",
    "    keras.layers.experimental.preprocessing.Rescaling(1/255),\n",
    "    # Hidden layers\n",
    "    layers.Conv2D(8, KERNEL_SIZE, activation='relu'),\n",
    "    layers.MaxPooling2D(),\n",
    "    layers.Flatten(),\n",
    "    layers.Dense(64, activation='relu'),\n",
    "    layers.Dropout(.3),\n",
    "    # Output layer, single neuron\n",
    "    layers.Dense(1, activation='sigmoid')\n",
    "])\n",
    "\n",
    "\"\"\"\n",
    "All metrics are added, not sure which ones we are interested in\n",
    "metrics=['accuracy', precision, 'recall', 'f1', 'AUC']\n",
    "\"\"\"\n",
    "model.compile(loss='binary_crossentropy', optimizer=Adam(LEARNING_RATE), metrics=['accuracy'])\n",
    "# baseline ln2\n",
    "callback = keras.callbacks.EarlyStopping(monitor='val_loss', patience=5, restore_best_weights=True, baseline = 0.693)\n",
    "results = model.fit(train_ds, epochs=EPOCHS, validation_data=valid_ds, callbacks=[callback])\n",
    "\n",
    "print(model.summary())\n",
    "\n",
    "# Plot the training and validation loss\n",
    "plt.plot(results.history['loss'])\n",
    "plt.plot(results.history['val_loss'])\n",
    "plt.title('Model Loss')\n",
    "plt.xlabel('Epoch')\n",
    "plt.ylabel('Loss')\n",
    "plt.legend(['Train', 'Validation'], loc='upper right', bbox_to_anchor=(1, 1))\n",
    "plt.xticks(np.arange(EPOCHS + 1, step=5))\n",
    "plt.ylim(ymin=0)\n",
    "plt.show()"
   ]
  },
  {
   "cell_type": "code",
   "execution_count": 8,
   "id": "12da3518",
   "metadata": {},
   "outputs": [],
   "source": [
    "tuner.results_summary()"
   ]
  },
  {
   "cell_type": "code",
   "execution_count": 22,
   "id": "4d3bd146",
   "metadata": {},
   "outputs": [
    {
     "name": "stdout",
     "output_type": "stream",
     "text": [
      "WARNING:tensorflow:Detecting that an object or model or tf.train.Checkpoint is being deleted with unrestored values. See the following logs for the specific values in question. To silence these warnings, use `status.expect_partial()`. See https://www.tensorflow.org/api_docs/python/tf/train/Checkpoint#restorefor details about the status object returned by the restore function.\n",
      "WARNING:tensorflow:Value in checkpoint could not be found in the restored object: (root).optimizer.iter\n",
      "WARNING:tensorflow:Value in checkpoint could not be found in the restored object: (root).optimizer.beta_1\n",
      "WARNING:tensorflow:Value in checkpoint could not be found in the restored object: (root).optimizer.beta_2\n",
      "WARNING:tensorflow:Value in checkpoint could not be found in the restored object: (root).optimizer.decay\n",
      "WARNING:tensorflow:Value in checkpoint could not be found in the restored object: (root).optimizer.learning_rate\n",
      "WARNING:tensorflow:Value in checkpoint could not be found in the restored object: (root).optimizer's state 'm' for (root).layer_with_weights-0.kernel\n",
      "WARNING:tensorflow:Value in checkpoint could not be found in the restored object: (root).optimizer's state 'm' for (root).layer_with_weights-0.bias\n",
      "WARNING:tensorflow:Value in checkpoint could not be found in the restored object: (root).optimizer's state 'm' for (root).layer_with_weights-1.kernel\n",
      "WARNING:tensorflow:Value in checkpoint could not be found in the restored object: (root).optimizer's state 'm' for (root).layer_with_weights-1.bias\n",
      "WARNING:tensorflow:Value in checkpoint could not be found in the restored object: (root).optimizer's state 'm' for (root).layer_with_weights-2.kernel\n",
      "WARNING:tensorflow:Value in checkpoint could not be found in the restored object: (root).optimizer's state 'm' for (root).layer_with_weights-2.bias\n",
      "WARNING:tensorflow:Value in checkpoint could not be found in the restored object: (root).optimizer's state 'v' for (root).layer_with_weights-0.kernel\n",
      "WARNING:tensorflow:Value in checkpoint could not be found in the restored object: (root).optimizer's state 'v' for (root).layer_with_weights-0.bias\n",
      "WARNING:tensorflow:Value in checkpoint could not be found in the restored object: (root).optimizer's state 'v' for (root).layer_with_weights-1.kernel\n",
      "WARNING:tensorflow:Value in checkpoint could not be found in the restored object: (root).optimizer's state 'v' for (root).layer_with_weights-1.bias\n",
      "WARNING:tensorflow:Value in checkpoint could not be found in the restored object: (root).optimizer's state 'v' for (root).layer_with_weights-2.kernel\n",
      "WARNING:tensorflow:Value in checkpoint could not be found in the restored object: (root).optimizer's state 'v' for (root).layer_with_weights-2.bias\n",
      "17/17 [==============================] - 2s 72ms/step - loss: 0.2400 - accuracy: 0.9144\n"
     ]
    },
    {
     "data": {
      "text/plain": [
       "[0.23997417092323303, 0.9143968820571899]"
      ]
     },
     "execution_count": 22,
     "metadata": {},
     "output_type": "execute_result"
    }
   ],
   "source": [
    "tuner.get_best_models()[0].evaluate(test_ds)"
   ]
  },
  {
   "cell_type": "code",
   "execution_count": 23,
   "id": "d75df75c",
   "metadata": {},
   "outputs": [
    {
     "name": "stdout",
     "output_type": "stream",
     "text": [
      "<class 'tensorflow.python.data.ops.dataset_ops.BatchDataset'>\n"
     ]
    }
   ],
   "source": [
    "print(type(test_ds))"
   ]
  },
  {
   "cell_type": "code",
   "execution_count": 24,
   "id": "d6c52a76",
   "metadata": {},
   "outputs": [
    {
     "name": "stdout",
     "output_type": "stream",
     "text": [
      "WARNING:tensorflow:Detecting that an object or model or tf.train.Checkpoint is being deleted with unrestored values. See the following logs for the specific values in question. To silence these warnings, use `status.expect_partial()`. See https://www.tensorflow.org/api_docs/python/tf/train/Checkpoint#restorefor details about the status object returned by the restore function.\n",
      "WARNING:tensorflow:Value in checkpoint could not be found in the restored object: (root).optimizer.iter\n",
      "WARNING:tensorflow:Value in checkpoint could not be found in the restored object: (root).optimizer.beta_1\n",
      "WARNING:tensorflow:Value in checkpoint could not be found in the restored object: (root).optimizer.beta_2\n",
      "WARNING:tensorflow:Value in checkpoint could not be found in the restored object: (root).optimizer.decay\n",
      "WARNING:tensorflow:Value in checkpoint could not be found in the restored object: (root).optimizer.learning_rate\n",
      "WARNING:tensorflow:Value in checkpoint could not be found in the restored object: (root).optimizer's state 'm' for (root).layer_with_weights-0.kernel\n",
      "WARNING:tensorflow:Value in checkpoint could not be found in the restored object: (root).optimizer's state 'm' for (root).layer_with_weights-0.bias\n",
      "WARNING:tensorflow:Value in checkpoint could not be found in the restored object: (root).optimizer's state 'm' for (root).layer_with_weights-1.kernel\n",
      "WARNING:tensorflow:Value in checkpoint could not be found in the restored object: (root).optimizer's state 'm' for (root).layer_with_weights-1.bias\n",
      "WARNING:tensorflow:Value in checkpoint could not be found in the restored object: (root).optimizer's state 'm' for (root).layer_with_weights-2.kernel\n",
      "WARNING:tensorflow:Value in checkpoint could not be found in the restored object: (root).optimizer's state 'm' for (root).layer_with_weights-2.bias\n",
      "WARNING:tensorflow:Value in checkpoint could not be found in the restored object: (root).optimizer's state 'v' for (root).layer_with_weights-0.kernel\n",
      "WARNING:tensorflow:Value in checkpoint could not be found in the restored object: (root).optimizer's state 'v' for (root).layer_with_weights-0.bias\n",
      "WARNING:tensorflow:Value in checkpoint could not be found in the restored object: (root).optimizer's state 'v' for (root).layer_with_weights-1.kernel\n",
      "WARNING:tensorflow:Value in checkpoint could not be found in the restored object: (root).optimizer's state 'v' for (root).layer_with_weights-1.bias\n",
      "WARNING:tensorflow:Value in checkpoint could not be found in the restored object: (root).optimizer's state 'v' for (root).layer_with_weights-2.kernel\n",
      "WARNING:tensorflow:Value in checkpoint could not be found in the restored object: (root).optimizer's state 'v' for (root).layer_with_weights-2.bias\n",
      "17/17 [==============================] - 2s 81ms/step\n"
     ]
    }
   ],
   "source": [
    "best_model = tuner.get_best_models()[0]\n",
    "y_pred = best_model.predict(test_ds)"
   ]
  },
  {
   "cell_type": "code",
   "execution_count": 30,
   "id": "24dede6e",
   "metadata": {},
   "outputs": [
    {
     "name": "stdout",
     "output_type": "stream",
     "text": [
      "WARNING:tensorflow:Detecting that an object or model or tf.train.Checkpoint is being deleted with unrestored values. See the following logs for the specific values in question. To silence these warnings, use `status.expect_partial()`. See https://www.tensorflow.org/api_docs/python/tf/train/Checkpoint#restorefor details about the status object returned by the restore function.\n",
      "WARNING:tensorflow:Value in checkpoint could not be found in the restored object: (root).optimizer.iter\n",
      "WARNING:tensorflow:Value in checkpoint could not be found in the restored object: (root).optimizer.beta_1\n",
      "WARNING:tensorflow:Value in checkpoint could not be found in the restored object: (root).optimizer.beta_2\n",
      "WARNING:tensorflow:Value in checkpoint could not be found in the restored object: (root).optimizer.decay\n",
      "WARNING:tensorflow:Value in checkpoint could not be found in the restored object: (root).optimizer.learning_rate\n",
      "WARNING:tensorflow:Value in checkpoint could not be found in the restored object: (root).optimizer's state 'm' for (root).layer_with_weights-0.kernel\n",
      "WARNING:tensorflow:Value in checkpoint could not be found in the restored object: (root).optimizer's state 'm' for (root).layer_with_weights-0.bias\n",
      "WARNING:tensorflow:Value in checkpoint could not be found in the restored object: (root).optimizer's state 'm' for (root).layer_with_weights-1.kernel\n",
      "WARNING:tensorflow:Value in checkpoint could not be found in the restored object: (root).optimizer's state 'm' for (root).layer_with_weights-1.bias\n",
      "WARNING:tensorflow:Value in checkpoint could not be found in the restored object: (root).optimizer's state 'm' for (root).layer_with_weights-2.kernel\n",
      "WARNING:tensorflow:Value in checkpoint could not be found in the restored object: (root).optimizer's state 'm' for (root).layer_with_weights-2.bias\n",
      "WARNING:tensorflow:Value in checkpoint could not be found in the restored object: (root).optimizer's state 'v' for (root).layer_with_weights-0.kernel\n",
      "WARNING:tensorflow:Value in checkpoint could not be found in the restored object: (root).optimizer's state 'v' for (root).layer_with_weights-0.bias\n",
      "WARNING:tensorflow:Value in checkpoint could not be found in the restored object: (root).optimizer's state 'v' for (root).layer_with_weights-1.kernel\n",
      "WARNING:tensorflow:Value in checkpoint could not be found in the restored object: (root).optimizer's state 'v' for (root).layer_with_weights-1.bias\n",
      "WARNING:tensorflow:Value in checkpoint could not be found in the restored object: (root).optimizer's state 'v' for (root).layer_with_weights-2.kernel\n",
      "WARNING:tensorflow:Value in checkpoint could not be found in the restored object: (root).optimizer's state 'v' for (root).layer_with_weights-2.bias\n",
      "17/17 [==============================] - 1s 55ms/step\n"
     ]
    },
    {
     "ename": "ValueError",
     "evalue": "all the input arrays must have same number of dimensions, but the array at index 0 has 2 dimension(s) and the array at index 1 has 1 dimension(s)",
     "output_type": "error",
     "traceback": [
      "\u001b[1;31m---------------------------------------------------------------------------\u001b[0m",
      "\u001b[1;31mValueError\u001b[0m                                Traceback (most recent call last)",
      "Cell \u001b[1;32mIn[30], line 16\u001b[0m\n\u001b[0;32m     13\u001b[0m y_pred \u001b[38;5;241m=\u001b[39m np\u001b[38;5;241m.\u001b[39margmax(best_model\u001b[38;5;241m.\u001b[39mpredict(X_test), axis\u001b[38;5;241m=\u001b[39m\u001b[38;5;241m1\u001b[39m)\n\u001b[0;32m     15\u001b[0m \u001b[38;5;66;03m# Determine the unique class labels\u001b[39;00m\n\u001b[1;32m---> 16\u001b[0m unique_labels \u001b[38;5;241m=\u001b[39m np\u001b[38;5;241m.\u001b[39munique(\u001b[43mnp\u001b[49m\u001b[38;5;241;43m.\u001b[39;49m\u001b[43mconcatenate\u001b[49m\u001b[43m(\u001b[49m\u001b[43m(\u001b[49m\u001b[43my_test\u001b[49m\u001b[43m,\u001b[49m\u001b[43m \u001b[49m\u001b[43my_pred\u001b[49m\u001b[43m)\u001b[49m\u001b[43m)\u001b[49m)\n\u001b[0;32m     18\u001b[0m \u001b[38;5;66;03m# Create an empty confusion matrix\u001b[39;00m\n\u001b[0;32m     19\u001b[0m num_classes \u001b[38;5;241m=\u001b[39m \u001b[38;5;28mlen\u001b[39m(unique_labels)\n",
      "File \u001b[1;32m<__array_function__ internals>:200\u001b[0m, in \u001b[0;36mconcatenate\u001b[1;34m(*args, **kwargs)\u001b[0m\n",
      "\u001b[1;31mValueError\u001b[0m: all the input arrays must have same number of dimensions, but the array at index 0 has 2 dimension(s) and the array at index 1 has 1 dimension(s)"
     ]
    }
   ],
   "source": [
    "import numpy as np\n",
    "import tensorflow as tf\n",
    "\n",
    "# Assuming you have a test dataset (test_ds) and a trained model (model)\n",
    "\n",
    "best_model = tuner.get_best_models()[0]\n",
    "\n",
    "# Convert the test dataset to a NumPy array\n",
    "X_test = np.concatenate([x.numpy() for x, _ in test_ds], axis=0)\n",
    "y_test = np.concatenate([y.numpy() for _, y in test_ds], axis=0)\n",
    "\n",
    "# Make predictions using the trained model\n",
    "y_pred = np.argmax(best_model.predict(X_test), axis=1)\n",
    "\n",
    "# Determine the unique class labels\n",
    "unique_labels = np.unique(np.concatenate((y_test, y_pred)))\n",
    "\n",
    "# Create an empty confusion matrix\n",
    "num_classes = len(unique_labels)\n",
    "confusion_matrix = np.zeros((num_classes, num_classes), dtype=int)\n",
    "\n",
    "# Fill the confusion matrix\n",
    "for true, pred in zip(y_test, y_pred):\n",
    "    true_index = np.where(unique_labels == true)[0][0]\n",
    "    pred_index = np.where(unique_labels == pred)[0][0]\n",
    "    confusion_matrix[true_index, pred_index] += 1\n",
    "\n",
    "print(\"Confusion Matrix:\")\n",
    "print(confusion_matrix)\n"
   ]
  },
  {
   "cell_type": "code",
   "execution_count": 6,
   "id": "ee17ff7d",
   "metadata": {},
   "outputs": [
    {
     "name": "stdout",
     "output_type": "stream",
     "text": [
      "17/17 [==============================] - 2s 76ms/step - loss: 0.2400 - accuracy: 0.9144\n"
     ]
    },
    {
     "data": {
      "text/plain": [
       "[0.23997417092323303, 0.9143968820571899]"
      ]
     },
     "execution_count": 6,
     "metadata": {},
     "output_type": "execute_result"
    }
   ],
   "source": [
    "#useful for loading the model\n",
    "import tensorflow as tf\n",
    "\n",
    "def get_model():\n",
    "    model = keras.Sequential([\n",
    "        keras.layers.experimental.preprocessing.Rescaling(1/255),\n",
    "        # Hidden layers\n",
    "        layers.Conv2D(8, KERNEL_SIZE, activation='relu'),\n",
    "        layers.MaxPooling2D(),\n",
    "        layers.Flatten(),\n",
    "        layers.Dense(16, activation='relu'),\n",
    "        layers.Dropout(0.2),\n",
    "        # Output layer, single neuron\n",
    "        layers.Dense(1, activation='sigmoid')\n",
    "    ])\n",
    "    model.compile(loss='binary_crossentropy', optimizer=Adam(0.0005), metrics=['accuracy'])\n",
    "    return model\n",
    "model = get_model()\n",
    "# best checkpoint\n",
    "checkpoint_dir = 'grid_search/random/trial_09/'\n",
    "\n",
    "# Load the weights from the checkpoint files\n",
    "model.load_weights(tf.train.latest_checkpoint(checkpoint_dir))\n",
    "model.evaluate(test_ds)"
   ]
  },
  {
   "cell_type": "code",
   "execution_count": 7,
   "id": "14f7e02a",
   "metadata": {},
   "outputs": [
    {
     "name": "stdout",
     "output_type": "stream",
     "text": [
      "17/17 [==============================] - 1s 59ms/step\n",
      "[[247  19]\n",
      " [ 25 223]]\n"
     ]
    }
   ],
   "source": [
    "import numpy as np\n",
    "import tensorflow as tf\n",
    "import sklearn\n",
    "#import sklearn\n",
    "#from sklearn.metrics import confusion_matrix\n",
    "\n",
    "X_test = []\n",
    "y_test = []\n",
    "\n",
    "for batch in test_ds:\n",
    "    features, labels = batch\n",
    "    X_test.append(features.numpy())\n",
    "    y_test.append(labels.numpy())\n",
    "\n",
    "X_test = np.concatenate(X_test, axis=0)\n",
    "y_test = np.concatenate(y_test, axis=0)\n",
    "\n",
    "\n",
    "y_pred = model.predict(X_test)\n",
    "confusion_matrix = sklearn.metrics.confusion_matrix(y_test, np.rint(y_pred))\n",
    "print(confusion_matrix)"
   ]
  },
  {
   "cell_type": "code",
   "execution_count": 11,
   "id": "e090b21b",
   "metadata": {},
   "outputs": [
    {
     "data": {
      "image/png": "[encoded data removed]",
      "text/plain": [
       "<Figure size 640x480 with 2 Axes>"
      ]
     },
     "metadata": {},
     "output_type": "display_data"
    }
   ],
   "source": [
    "import seaborn as sns\n",
    "cm = confusion_matrix\n",
    "sns.heatmap(cm, annot=True, cmap=\"Blues\", fmt=\"d\", xticklabels=[\"Orange\", \"Apple\"], yticklabels=[\"Orange\", \"Apple\"])\n",
    "plt.xlabel(\"Predicted Label\")\n",
    "plt.ylabel(\"True Label\")\n",
    "plt.title(\"Confusion Matrix\")\n",
    "plt.show()"
   ]
  },
  {
   "cell_type": "code",
   "execution_count": null,
   "id": "90a19423",
   "metadata": {},
   "outputs": [],
   "source": []
  }
 ],
 "metadata": {
  "kernelspec": {
   "display_name": "Python 3 (ipykernel)",
   "language": "python",
   "name": "python3"
  },
  "language_info": {
   "codemirror_mode": {
    "name": "ipython",
    "version": 3
   },
   "file_extension": ".py",
   "mimetype": "text/x-python",
   "name": "python",
   "nbconvert_exporter": "python",
   "pygments_lexer": "ipython3",
   "version": "3.10.11"
  }
 },
 "nbformat": 4,
 "nbformat_minor": 5
}
