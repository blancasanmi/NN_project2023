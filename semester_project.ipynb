{
 "cells": [
  {
   "cell_type": "code",
   "execution_count": 1,
   "metadata": {
    "id": "cNfzttkwHEmE",
    "scrolled": true
   },
   "outputs": [
    {
     "ename": "ModuleNotFoundError",
     "evalue": "No module named 'tensorflow'",
     "output_type": "error",
     "traceback": [
      "\u001b[1;31m---------------------------------------------------------------------------\u001b[0m",
      "\u001b[1;31mModuleNotFoundError\u001b[0m                       Traceback (most recent call last)",
      "\u001b[1;32m~\\AppData\\Local\\Temp\\ipykernel_16664\\2742949191.py\u001b[0m in \u001b[0;36m<module>\u001b[1;34m\u001b[0m\n\u001b[0;32m      1\u001b[0m \u001b[1;31m# import modules\u001b[0m\u001b[1;33m\u001b[0m\u001b[1;33m\u001b[0m\u001b[0m\n\u001b[1;32m----> 2\u001b[1;33m \u001b[1;32mfrom\u001b[0m \u001b[0mtensorflow\u001b[0m \u001b[1;32mimport\u001b[0m \u001b[0mkeras\u001b[0m\u001b[1;33m\u001b[0m\u001b[1;33m\u001b[0m\u001b[0m\n\u001b[0m\u001b[0;32m      3\u001b[0m \u001b[1;32mfrom\u001b[0m \u001b[0mkeras\u001b[0m \u001b[1;32mimport\u001b[0m \u001b[0mlayers\u001b[0m\u001b[1;33m\u001b[0m\u001b[1;33m\u001b[0m\u001b[0m\n\u001b[0;32m      4\u001b[0m \u001b[1;32mimport\u001b[0m \u001b[0mmatplotlib\u001b[0m\u001b[1;33m.\u001b[0m\u001b[0mpyplot\u001b[0m \u001b[1;32mas\u001b[0m \u001b[0mplt\u001b[0m\u001b[1;33m\u001b[0m\u001b[1;33m\u001b[0m\u001b[0m\n\u001b[0;32m      5\u001b[0m \u001b[1;32mimport\u001b[0m \u001b[0mnumpy\u001b[0m \u001b[1;32mas\u001b[0m \u001b[0mnp\u001b[0m\u001b[1;33m\u001b[0m\u001b[1;33m\u001b[0m\u001b[0m\n",
      "\u001b[1;31mModuleNotFoundError\u001b[0m: No module named 'tensorflow'"
     ]
    }
   ],
   "source": [
    "# import modules\n",
    "from tensorflow import keras\n",
    "from keras import layers\n",
    "import matplotlib.pyplot as plt\n",
    "import numpy as np"
   ]
  },
  {
   "cell_type": "code",
   "execution_count": 2,
   "metadata": {
    "id": "cf8HVzCLHR8w"
   },
   "outputs": [],
   "source": [
    "# magic constants\n",
    "SPLIT_PERCENTAGE = 0.2\n",
    "LABEL_GENERATION = 'inferred' # default, generated from structure\n",
    "RANDOM_SEED = 42\n",
    "BATCH_SIZE = 32 # unsure, trade off between performance and efficiency\n",
    "IMAGE_DIMENSIONS = (256,256) # default, all images must have same size\n",
    "KERNEL_SIZE = 3\n",
    "SHUFFLE_FLAG = True # default\n",
    "EPOCHS = 20"
   ]
  },
  {
   "cell_type": "code",
   "execution_count": 3,
   "metadata": {
    "colab": {
     "base_uri": "https://localhost:8080/",
     "height": 141
    },
    "id": "aCSxjrFgHWMx",
    "outputId": "343e8ee2-20a6-4ca7-92ee-aee09c810efe"
   },
   "outputs": [
    {
     "name": "stdout",
     "output_type": "stream",
     "text": [
      "Found 2014 files belonging to 2 classes.\n",
      "Using 1612 files for training.\n",
      "Found 2014 files belonging to 2 classes.\n",
      "Using 402 files for validation.\n"
     ]
    },
    {
     "data": {
      "text/plain": [
       "\"\\nTo explicitly use one-hot encoding, use integer labels and add:\\ntrain_labels = to_categorical(train_ds.labels)\\nvalid_labels = to_categorical(valid_ds.labels)\\nSeems unnecessary though with label_mode = 'binary'\\n\""
      ]
     },
     "execution_count": 3,
     "metadata": {},
     "output_type": "execute_result"
    }
   ],
   "source": [
    "# documentation: www.tensorflow.org/api_docs/python/tf/keras/utils/image_dataset_from_directory\n",
    "# have a look at default parameters..\n",
    "train_ds = keras.utils.image_dataset_from_directory(\n",
    "    directory='NeuralNetworks/training_data/',\n",
    "    validation_split=SPLIT_PERCENTAGE,\n",
    "    labels=LABEL_GENERATION,\n",
    "    subset='training',\n",
    "    seed=RANDOM_SEED,\n",
    "    label_mode='binary', # we do binary classification\n",
    "    batch_size=BATCH_SIZE,    \n",
    "    image_size=IMAGE_DIMENSIONS, \n",
    "    shuffle=SHUFFLE_FLAG\n",
    ")\n",
    "\n",
    "valid_ds = keras.utils.image_dataset_from_directory(\n",
    "    directory='NeuralNetworks/training_data/',\n",
    "    validation_split=SPLIT_PERCENTAGE,\n",
    "    labels=LABEL_GENERATION,\n",
    "    subset='validation',\n",
    "    seed=RANDOM_SEED,\n",
    "    label_mode='binary',\n",
    "    batch_size=BATCH_SIZE,\n",
    "    image_size=IMAGE_DIMENSIONS, \n",
    "    shuffle=SHUFFLE_FLAG\n",
    ")\n",
    "\n",
    "\"\"\"\n",
    "To explicitly use one-hot encoding, use integer labels and add:\n",
    "train_labels = to_categorical(train_ds.labels)\n",
    "valid_labels = to_categorical(valid_ds.labels)\n",
    "Seems unnecessary though with label_mode = 'binary'\n",
    "\"\"\""
   ]
  },
  {
   "cell_type": "code",
   "execution_count": 4,
   "metadata": {
    "id": "eBteh_wBHdnW"
   },
   "outputs": [
    {
     "name": "stdout",
     "output_type": "stream",
     "text": [
      "using kernel size 3\n"
     ]
    }
   ],
   "source": [
    "# Setting up the neural network architecture\n",
    "print(f'using kernel size {KERNEL_SIZE}')\n",
    "model = keras.Sequential([\n",
    "    #Ideally, perform the rescaling in a separate preprocessing step..\n",
    "    keras.layers.experimental.preprocessing.Rescaling(1/255),\n",
    "    # Hidden layers\n",
    "    layers.Conv2D(16, KERNEL_SIZE, activation='relu', kernel_regularizer=keras.regularizers.l2(0.01)),\n",
    "    layers.MaxPooling2D(),\n",
    "    layers.Conv2D(32, KERNEL_SIZE, activation='relu'),\n",
    "    layers.MaxPooling2D(),\n",
    "    layers.Flatten(),\n",
    "    layers.Dense(32, activation='relu'),\n",
    "    # Output layer, single neuron\n",
    "    layers.Dense(1, activation='sigmoid')\n",
    "])"
   ]
  },
  {
   "cell_type": "code",
   "execution_count": 5,
   "metadata": {
    "id": "9p6R2kYFK3sa",
    "scrolled": true
   },
   "outputs": [
    {
     "name": "stdout",
     "output_type": "stream",
     "text": [
      "Epoch 1/20\n",
      "51/51 [==============================] - 38s 720ms/step - loss: 1.4329 - accuracy: 0.7153 - val_loss: 0.4129 - val_accuracy: 0.8682\n",
      "Epoch 2/20\n",
      "51/51 [==============================] - 29s 570ms/step - loss: 0.2901 - accuracy: 0.9150 - val_loss: 0.4180 - val_accuracy: 0.8632\n",
      "Epoch 3/20\n",
      "51/51 [==============================] - 29s 567ms/step - loss: 0.2397 - accuracy: 0.9305 - val_loss: 0.3467 - val_accuracy: 0.8856\n",
      "Epoch 4/20\n",
      "51/51 [==============================] - 29s 569ms/step - loss: 0.2264 - accuracy: 0.9380 - val_loss: 0.2760 - val_accuracy: 0.9080\n",
      "Epoch 5/20\n",
      "51/51 [==============================] - 29s 566ms/step - loss: 0.1750 - accuracy: 0.9597 - val_loss: 0.3713 - val_accuracy: 0.8781\n",
      "Epoch 6/20\n",
      "51/51 [==============================] - 29s 566ms/step - loss: 0.1589 - accuracy: 0.9584 - val_loss: 0.2776 - val_accuracy: 0.9129\n",
      "Epoch 7/20\n",
      "51/51 [==============================] - 30s 582ms/step - loss: 0.1230 - accuracy: 0.9752 - val_loss: 0.2850 - val_accuracy: 0.9179\n",
      "Epoch 8/20\n",
      "51/51 [==============================] - 32s 632ms/step - loss: 0.0915 - accuracy: 0.9876 - val_loss: 0.3715 - val_accuracy: 0.8955\n",
      "Epoch 9/20\n",
      "51/51 [==============================] - 30s 590ms/step - loss: 0.0718 - accuracy: 0.9957 - val_loss: 0.3210 - val_accuracy: 0.9104\n",
      "Epoch 10/20\n",
      "51/51 [==============================] - 30s 584ms/step - loss: 0.0615 - accuracy: 0.9981 - val_loss: 0.3587 - val_accuracy: 0.9104\n",
      "Epoch 11/20\n",
      "51/51 [==============================] - 30s 590ms/step - loss: 0.0608 - accuracy: 0.9981 - val_loss: 0.3783 - val_accuracy: 0.9055\n",
      "Epoch 12/20\n",
      "51/51 [==============================] - 30s 597ms/step - loss: 0.0547 - accuracy: 0.9981 - val_loss: 0.4054 - val_accuracy: 0.9055\n",
      "Epoch 13/20\n",
      "51/51 [==============================] - 30s 580ms/step - loss: 0.0608 - accuracy: 0.9963 - val_loss: 0.4223 - val_accuracy: 0.9005\n",
      "Epoch 14/20\n",
      "51/51 [==============================] - 30s 585ms/step - loss: 0.0501 - accuracy: 0.9994 - val_loss: 0.4832 - val_accuracy: 0.8905\n",
      "Epoch 15/20\n",
      "51/51 [==============================] - 29s 572ms/step - loss: 0.0496 - accuracy: 0.9988 - val_loss: 0.4863 - val_accuracy: 0.9104\n",
      "Epoch 16/20\n",
      "51/51 [==============================] - 31s 610ms/step - loss: 0.0453 - accuracy: 1.0000 - val_loss: 0.4488 - val_accuracy: 0.9030\n",
      "Epoch 17/20\n",
      "51/51 [==============================] - 32s 619ms/step - loss: 0.0435 - accuracy: 1.0000 - val_loss: 0.5938 - val_accuracy: 0.8905\n",
      "Epoch 18/20\n",
      "51/51 [==============================] - 32s 622ms/step - loss: 0.0426 - accuracy: 1.0000 - val_loss: 0.5624 - val_accuracy: 0.8955\n",
      "Epoch 19/20\n",
      "51/51 [==============================] - 30s 593ms/step - loss: 0.0417 - accuracy: 1.0000 - val_loss: 0.5809 - val_accuracy: 0.8881\n",
      "Epoch 20/20\n",
      "51/51 [==============================] - 31s 599ms/step - loss: 0.0409 - accuracy: 1.0000 - val_loss: 0.6078 - val_accuracy: 0.8856\n"
     ]
    }
   ],
   "source": [
    "\"\"\"\n",
    "All metrics are added, not sure which ones we are interested in\n",
    "metrics=['accuracy', precision, 'recall', 'f1', 'AUC']\n",
    "\"\"\"\n",
    "model.compile(loss='binary_crossentropy', optimizer='adam', metrics=['accuracy'])\n",
    "results = model.fit(train_ds, epochs=EPOCHS, validation_data=valid_ds)"
   ]
  },
  {
   "cell_type": "code",
   "execution_count": 6,
   "metadata": {
    "id": "qBM-Np5VK7t4"
   },
   "outputs": [
    {
     "data": {
      "image/png": "[encoded data removed]",
      "text/plain": [
       "<Figure size 640x480 with 1 Axes>"
      ]
     },
     "metadata": {},
     "output_type": "display_data"
    }
   ],
   "source": [
    "# Plot the training and validation loss\n",
    "plt.plot(results.history['loss'])\n",
    "plt.plot(results.history['val_loss'])\n",
    "plt.title('Model Loss')\n",
    "plt.xlabel('Epoch')\n",
    "plt.ylabel('Loss')\n",
    "plt.legend(['Train', 'Validation'], loc='upper right', bbox_to_anchor=(1, 0.5))\n",
    "plt.xticks(np.arange(EPOCHS + 1, step=5))\n",
    "plt.show()"
   ]
  },
  {
   "cell_type": "code",
   "execution_count": null,
   "metadata": {},
   "outputs": [],
   "source": []
  }
 ],
 "metadata": {
  "colab": {
   "provenance": []
  },
  "kernelspec": {
   "display_name": "Python 3 (ipykernel)",
   "language": "python",
   "name": "python3"
  },
  "language_info": {
   "codemirror_mode": {
    "name": "ipython",
    "version": 3
   },
   "file_extension": ".py",
   "mimetype": "text/x-python",
   "name": "python",
   "nbconvert_exporter": "python",
   "pygments_lexer": "ipython3",
   "version": "3.9.13"
  }
 },
 "nbformat": 4,
 "nbformat_minor": 1
}
